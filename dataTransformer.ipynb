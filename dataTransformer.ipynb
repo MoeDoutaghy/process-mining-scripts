{
 "cells": [
  {
   "cell_type": "code",
   "execution_count": 38,
   "metadata": {},
   "outputs": [
    {
     "name": "stdout",
     "output_type": "stream",
     "text": [
      "identity count:  1050\n"
     ]
    }
   ],
   "source": [
    "# from importlib import reload  # Python 3.4+\n",
    "\n",
    "import pandas as pd\n",
    "import openpyxl\n",
    "from datetime import datetime\n",
    "import utils\n",
    "import re\n",
    "import importlib\n",
    "importlib.reload(utils)\n",
    "\n",
    "\n",
    "regex = re.compile(\"[0-9]{4}\\-[0-9]{2}\\-[0-9]{2}\")\n",
    "\n",
    "# Note1: wait time between visit start date to pia is the most important data to look at. The goal is to reduce this time (ed wati time)\n",
    "\n",
    "\n",
    "\n",
    "\n",
    "read_file = pd.read_excel (\"Synthetic_ExLED_2022-01-02.xlsx\", sheet_name='Synthetic ED Data for Process M')\n",
    "read_file.to_csv (\"Synthetic_ExLED_2022-01-02.csv\", \n",
    "                  index = None,\n",
    "                  header=True\n",
    "                  )\n",
    "df = pd.DataFrame(pd.read_csv(\"Synthetic_ExLED_2022-01-02.csv\"))\n",
    "sourceDateFormat = '%Y-%m-%d %H:%M:%S'\n",
    "finalDateFormat = '%m/%d/%Y %H:%M'\n",
    "identity = 1\n",
    "transformedDataList = []\n",
    "additionalFeatures = []\n",
    "singleTrace = []\n",
    "filteredEvents = [\"1st lab-encounter start date\", \"2nd lab-encounter start date\", \"1st di-encounter start date\", \"2nd di-encounter start date\", \"initial disposition\", \"patient service\", \"1st lab-date-time received\", \"2nd lab-date-time received\", \"1st di-encounter end date\", \"1st di-encounter start date\", \"2nd di-encounter end date\", \"2nd di-encounter start date\", \"1st lab-encounter end date\", \"2nd lab-encounter end date\"]\n",
    "counter = 0\n",
    "\n",
    "print(df['visit end date'][0])\n",
    "print(df['time of final disposition'][0])\n",
    "\n",
    "a = pd.to_datetime(df['visit end date'][0])\n",
    "b = pd.to_datetime(df['time of final disposition'][0])\n",
    "\n",
    "\n",
    "# iterate over rows\n",
    "for rowIndex, row in df.iterrows():\n",
    "    #iterate over each column\n",
    "    for columnIndex, value in row.items():\n",
    "        if pd.isna(value):\n",
    "            continue\n",
    "        if re.match(regex, str(value)):\n",
    "            #Filtering bad events\n",
    "            if columnIndex in filteredEvents:\n",
    "                continue\n",
    "            # Change the format of the date \n",
    "            singleTrace.append({\"identity\" : identity, \"timestamp\" : datetime.strptime(value, sourceDateFormat).strftime(finalDateFormat), \"activity\" : columnIndex})\n",
    "            # counter = counter + 1\n",
    "            continue\n",
    "        additionalFeatures.append({\"identity\" : identity, columnIndex : value})\n",
    "    # increment the identity counter\n",
    "    for additionalEvent in additionalFeatures:\n",
    "        for event in singleTrace:\n",
    "            if additionalEvent['identity'] == event['identity']:\n",
    "                event[list(additionalEvent)[1]] = additionalEvent[list(additionalEvent)[1]]\n",
    "    transformedDataList = transformedDataList + singleTrace\n",
    "    additionalFeatures.clear()\n",
    "    singleTrace.clear()\n",
    "    identity = identity + 1\n",
    "\n",
    "\n",
    "# print(transformedDataList)\n",
    "df_transformed = pd.DataFrame.from_dict(transformedDataList)\n",
    "print(\"identity count: \",identity)\n",
    "\n",
    "df_final = df_transformed.apply(lambda x: pd.Series(x.dropna().values))\n",
    "# Convert dataframe to csv format\n",
    "df_final.to_csv('transformedData.csv', index = False)\n",
    "\n",
    "\n",
    "# read CSV file\n",
    "results = pd.read_csv('transformedData.csv')\n",
    "  \n",
    "# count no. of lines\n",
    "print(\"Number of lines present:-\", \n",
    "      len(results))"
   ]
  }
 ],
 "metadata": {
  "kernelspec": {
   "display_name": "Python 3.10.8 64-bit",
   "metadata": {
    "interpreter": {
     "hash": "8f9328efe3468e6c370cdfed98702d3986faf748314d5bcec59da615d65baa7a"
    }
   },
   "name": "python3"
  },
  "language_info": {
   "codemirror_mode": {
    "name": "ipython",
    "version": 3
   },
   "file_extension": ".py",
   "mimetype": "text/x-python",
   "name": "python",
   "nbconvert_exporter": "python",
   "pygments_lexer": "ipython3",
   "version": "3.10.8-final"
  },
  "orig_nbformat": 2
 },
 "nbformat": 4,
 "nbformat_minor": 2
}