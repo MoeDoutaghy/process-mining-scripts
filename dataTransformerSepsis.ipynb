{
 "cells": [
  {
   "cell_type": "code",
   "execution_count": 19,
   "metadata": {},
   "outputs": [],
   "source": [
    "# from importlib import reload  # Python 3.4+\n",
    "\n",
    "import pandas as pd\n",
    "import openpyxl\n",
    "from datetime import datetime\n",
    "import utils\n",
    "import re\n",
    "import importlib\n",
    "importlib.reload(utils)\n",
    "\n",
    "\n",
    "regex = re.compile(\"[0-9]{4}\\/[0-9]{2}\\/[0-9]{2}\")\n",
    "identity = 1\n",
    "\n",
    "for rowIndex, row in df.iterrows():\n",
    "    #iterate over each column\n",
    "    for columnIndex, value in row.items():\n",
    "        if pd.isna(value):\n",
    "            continue\n",
    "\n",
    "        if re.match(regex, value):\n",
    "            transformedDataList.append({\"identity\" : identity, \"timestamp\" : value, \"activity\" : columnIndex})\n",
    "    identity = identity + 1\n",
    "\n",
    "# print(transformedDataList)\n",
    "df_transformed = pd.DataFrame.from_dict(transformedDataList)\n",
    "print(\"identity count: \",identity)\n",
    "\n",
    "df_final = df_transformed.apply(lambda x: pd.Series(x.dropna().values))\n",
    "# Convert dataframe to csv format\n",
    "df_final.to_csv('SepsisTransformedData.csv', index = False)\n",
    "\n",
    "\n",
    "# read CSV file\n",
    "results = pd.read_csv('SepsisTransformedData.csv')\n",
    "  "
   ]
  }
 ],
 "metadata": {
  "kernelspec": {
   "display_name": "Python 3.10.8 64-bit",
   "metadata": {
    "interpreter": {
     "hash": "8f9328efe3468e6c370cdfed98702d3986faf748314d5bcec59da615d65baa7a"
    }
   },
   "name": "python3"
  },
  "language_info": {
   "codemirror_mode": {
    "name": "ipython",
    "version": 3
   },
   "file_extension": ".py",
   "mimetype": "text/x-python",
   "name": "python",
   "nbconvert_exporter": "python",
   "pygments_lexer": "ipython3",
   "version": "3.10.8"
  },
  "orig_nbformat": 2
 },
 "nbformat": 4,
 "nbformat_minor": 2
}